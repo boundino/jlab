{
 "cells": [
  {
   "cell_type": "markdown",
   "metadata": {},
   "source": [
    "This tutorial is based on the material on [Gravitational Wave Open Science Center](https://www.gw-openscience.org/)."
   ]
  },
  {
   "cell_type": "markdown",
   "metadata": {},
   "source": [
    "## Preparation"
   ]
  },
  {
   "cell_type": "markdown",
   "metadata": {},
   "source": [
    "### Download the data"
   ]
  },
  {
   "cell_type": "markdown",
   "metadata": {},
   "source": [
    "    wget -P data https://www.gw-openscience.org/eventapi/html/GWTC-1-confident/GW150914/v3/H-H1_GWOSC_16KHZ_R1-1126257415-4096.hdf5"
   ]
  },
  {
   "cell_type": "markdown",
   "metadata": {},
   "source": [
    "All the available open data can be found on [Gravitational Wave Open Science Center](https://www.gw-openscience.org/eventapi/html/allevents/). In this tutorial, we take event GW150914 data as example. In the name of this particular data file:\n",
    "  * \"H-H1\" means that the data come from the LIGO Hanford Observatory site and the LIGO \"H1\" datector;\n",
    "  * \"1126257414-4096\" means the data starts at GPS time 1126257414 (Mon Sep 14 09:16:37 GMT 2015), duration 4096 seconds;\n",
    "    * NOTE: GPS time is number of seconds since Jan 6, 1980 GMT. See http://www.oc.nps.edu/oc2902w/gps/timsys.html."
   ]
  },
  {
   "cell_type": "markdown",
   "metadata": {},
   "source": [
    "### Load libraries"
   ]
  },
  {
   "cell_type": "code",
   "execution_count": 23,
   "metadata": {},
   "outputs": [],
   "source": [
    "#----------------------------------------------------------------\n",
    "# Load libraries\n",
    "#----------------------------------------------------------------\n",
    "import numpy as np\n",
    "import math\n",
    "from gwpy.timeseries import TimeSeries\n",
    "\n",
    "import matplotlib.pyplot as plt\n",
    "import matplotlib.mlab as mlab\n",
    "import h5py\n",
    "\n",
    "import os"
   ]
  },
  {
   "cell_type": "markdown",
   "metadata": {},
   "source": [
    "### Set input file and parameters"
   ]
  },
  {
   "cell_type": "code",
   "execution_count": 22,
   "metadata": {},
   "outputs": [],
   "source": [
    "#----------------------------------------------------------------\n",
    "# Set parameters\n",
    "#----------------------------------------------------------------\n",
    "fn = 'data/H-H1_GWOSC_4KHZ_R1-1126257415-4096.hdf5' # data file\n",
    "tevent = 1126259462.422 # Mon Sep 14 09:50:45 GMT 2015\n",
    "evtname = 'GW150914' # event name\n",
    "\n",
    "detector = 'H1' # detecotr: L1 or H1"
   ]
  },
  {
   "cell_type": "markdown",
   "metadata": {},
   "source": [
    "### Load data"
   ]
  },
  {
   "cell_type": "code",
   "execution_count": 21,
   "metadata": {},
   "outputs": [],
   "source": [
    "#----------------------------------------------------------------\n",
    "# Load LIGO data\n",
    "#----------------------------------------------------------------\n",
    "strain = TimeSeries.read(fn, format='hdf5.losc')\n",
    "center = int(tevent)\n",
    "strain = strain.crop(center-16, center+16)"
   ]
  },
  {
   "cell_type": "markdown",
   "metadata": {},
   "source": [
    "## Analysis on a known event"
   ]
  },
  {
   "cell_type": "markdown",
   "metadata": {},
   "source": [
    "### First look at data: raw time-series data"
   ]
  },
  {
   "cell_type": "code",
   "execution_count": 20,
   "metadata": {},
   "outputs": [],
   "source": [
    "#----------------------------------------------------------------\n",
    "# Show LIGO strain vs. time\n",
    "#----------------------------------------------------------------\n",
    "plt.figure()\n",
    "strain.plot()\n",
    "plt.ylabel('strain')\n",
    "plt.show()"
   ]
  },
  {
   "cell_type": "markdown",
   "metadata": {},
   "source": [
    "The data are dominated by low frequency noise, and there is no way to see a signal here."
   ]
  },
  {
   "cell_type": "markdown",
   "metadata": {},
   "source": [
    "### Data in the Fourier domain: ASDs"
   ]
  },
  {
   "cell_type": "markdown",
   "metadata": {},
   "source": [
    "Plotting these data in the Fourier domain gives us an idea of the frequency content of the data. A way to visualize the frequency content of the data is to plot the amplitude spectral density, ASD. The ASDs are the square root of the power spectral densities (PSDs), which are averages of the square of the fast fourier transforms (FFTs) of the data. They are an estimate of the \"strain-equivalent noise\" of the detectors versus frequency, which limit the ability of the detectors to identify GW signals."
   ]
  },
  {
   "cell_type": "code",
   "execution_count": 24,
   "metadata": {},
   "outputs": [],
   "source": [
    "#----------------------------------------------------------------\n",
    "# Obtain the power spectrum density PSD / ASD\n",
    "#----------------------------------------------------------------\n",
    "\n",
    "asd = strain.asd(fftlength=8)\n",
    "\n",
    "plt.figure()\n",
    "asd.plot()\n",
    "plt.xlim(10, 2000)\n",
    "plt.ylim(1e-24, 1e-19)\n",
    "plt.ylabel('ASD (strain/Hz$^{1/2})$')\n",
    "plt.xlabel('Frequency (Hz)')\n",
    "plt.show()"
   ]
  },
  {
   "cell_type": "markdown",
   "metadata": {},
   "source": [
    "You can see strong spectral lines in the data. They are all of instrumental origin. Some are engineered into the detectors (mirror suspension resonances at ~500 Hz and harmonics, calibration lines, control dither lines, etc) and some (60 Hz and harmonics) are unwanted. We'll return to these, later.\n",
    "\n",
    "You can't see the signal in this plot, since it is relatively weak and less than a second long, while this plot averages over 32 seconds of data. So this plot is entirely dominated by instrumental noise."
   ]
  },
  {
   "cell_type": "markdown",
   "metadata": {},
   "source": [
    "### Whitening data\n",
    "From the ASD above, we can see that noise fluctuations are much larger at low and high frequencies and near spectral lines. We can \"whiten\" the data, suppressing the extra noise at low frequencies and at the spectral lines, to better see the weak signals in the most sensitive band."
   ]
  },
  {
   "cell_type": "code",
   "execution_count": 25,
   "metadata": {},
   "outputs": [],
   "source": [
    "#----------------------------------------------------------------\n",
    "# Whitening data\n",
    "#----------------------------------------------------------------\n",
    "\n",
    "white_data = strain.whiten()\n",
    "\n",
    "plt.figure()\n",
    "white_data.plot()\n",
    "plt.ylabel('strain (whitened)')\n",
    "plt.show()"
   ]
  },
  {
   "cell_type": "markdown",
   "metadata": {},
   "source": [
    "### Bandpassing filter\n",
    "To get rid of remaining high frequency noise, we will also bandpass the data. The macro below shows you a framework to do bandpanssing, but <span style=\"color:blue\">you need to find proper frequency windows by yourself</span>."
   ]
  },
  {
   "cell_type": "code",
   "execution_count": 26,
   "metadata": {},
   "outputs": [],
   "source": [
    "#----------------------------------------------------------------\n",
    "# Bandpass filtering\n",
    "#----------------------------------------------------------------\n",
    "\n",
    "white_data_bp = white_data.bandpass(30, 400)\n",
    "\n",
    "plt.figure()\n",
    "white_data_bp.plot()\n",
    "plt.ylabel('strain (whitened + band-pass)')\n",
    "plt.show()"
   ]
  },
  {
   "cell_type": "markdown",
   "metadata": {},
   "source": [
    "### Plot a q-transform of the data\n",
    "Now let's look back to our data. To compare to the analytic model built above, we present our data with a time-frequency spectrogram."
   ]
  },
  {
   "cell_type": "code",
   "execution_count": 29,
   "metadata": {},
   "outputs": [],
   "source": [
    "#----------------------------------------------------------------\n",
    "# q-transform\n",
    "#----------------------------------------------------------------\n",
    "\n",
    "dt = 1  #-- Set width of q-transform plot, in seconds\n",
    "hq = strain.q_transform(outseg=(tevent-dt, tevent+dt))\n",
    "\n",
    "plt.figure()\n",
    "fig = hq.plot()\n",
    "ax = fig.gca()\n",
    "fig.colorbar(label=\"Normalised energy\")\n",
    "ax.grid(False)\n",
    "ax.set_yscale('log')\n",
    "plt.ylabel('Frequency (Hz)')\n",
    "plt.show()"
   ]
  },
  {
   "cell_type": "markdown",
   "metadata": {},
   "source": [
    "### Analytic model (under construction)\n",
    "Combining knowledge of a little bit of GR and 8.01 physics, we can get the radiation power from this system\n",
    "\\begin{eqnarray}\n",
    "\\frac{dE_{tot}}{dt} & = & -\\frac{2}{3}\\left(\\frac{G^2 M^5_{c}}{32\\omega}\\right)^{\\frac{1}{3}}\\dot{\\omega}\\\\\n",
    "\\end{eqnarray}\n",
    "and the oscilliation frequency as a function of time $t$\n",
    "\\begin{eqnarray}\n",
    "\\omega(t) & = & 2\\pi\\left(134\\rm{Hz}\\right)\\left(\\frac{1.21 M_{\\odot}}{M_{c}}\\right)^{\\frac{5}{8}}\\left(\\frac{1\\rm{s}}{\\Delta t}\\right)^{\\frac{3}{8}}\n",
    "\\end{eqnarray}\n",
    "Let's take a look at how it looks like."
   ]
  },
  {
   "cell_type": "code",
   "execution_count": 30,
   "metadata": {},
   "outputs": [],
   "source": [
    "#----------------------------------------------------------------\n",
    "# Frequency analytic\n",
    "#----------------------------------------------------------------\n",
    "\n",
    "def gwfreq(iM,iT,iT0):\n",
    "    const = (134.*np.pi*2)*np.power((1.21/iM),5./8.)\n",
    "    output = const*np.power(np.maximum((iT0-iT),3e-2),-3./8.) # we can max it out above 500 Hz-ish\n",
    "    return output\n",
    "\n",
    "times = np.linspace(0., 4., 50)\n",
    "freq = gwfreq(20, times, 4)\n",
    "\n",
    "plt.figure()\n",
    "plt.plot(times, freq)\n",
    "plt.xlabel('Time (s)')\n",
    "plt.ylabel('Frequency (Hz)')\n",
    "plt.show()"
   ]
  },
  {
   "cell_type": "markdown",
   "metadata": {},
   "source": [
    "The yellow line is our signal! Next we look at radiation.\n",
    "### Analytic model - Wave form\n",
    "By comibining the radiation power and frequency obtained above, we can get a wave form function\n",
    "\\begin{eqnarray}\n",
    "f(t) = A(t)\\cos(\\omega(t)t+\\phi)\n",
    "\\end{eqnarray}\n",
    "For the amplitude variation, we can use the power output. <span style=\"color:blue\">Try to come up with a proper $A(t)$ using radiation power output</span>. I have one answer in my mind, which leads to the shape below."
   ]
  },
  {
   "cell_type": "code",
   "execution_count": 32,
   "metadata": {},
   "outputs": [],
   "source": [
    "#----------------------------------------------------------------\n",
    "# Wave form analytic\n",
    "#----------------------------------------------------------------\n",
    "\n",
    "def osc(x,M,t0,n,phi):\n",
    "    freq = gwfreq(M,x,t0)\n",
    "    val = n*(np.cos(freq*(t0-x)+phi))*1e-12\n",
    "    val = val*np.power(M*freq,10./3.)*(1*(x<=t0)+np.exp((freq/(2*np.pi))*(t0-x))*(x>t0))\n",
    "    return val\n",
    "\n",
    "def osc_dif(params, x, data, eps):\n",
    "    iM=params[\"M\"]\n",
    "    iT0=params[\"t0\"]\n",
    "    norm=params[\"n\"]\n",
    "    phi=params[\"phi\"]\n",
    "    val=osc(x, iM, iT0, norm, phi)\n",
    "    return (val-data)/eps\n",
    "\n",
    "times = np.linspace(-0.1, 0.3, 1000)\n",
    "freq = osc(times, 30, 0.18, 1, 0.0)\n",
    "plt.figure(figsize=(12, 4))\n",
    "plt.subplots_adjust(left=0.1, right=0.9, top=0.85, bottom=0.2)\n",
    "plt.plot(times, freq)\n",
    "plt.xlabel('Time (s) since '+str(tevent))\n",
    "plt.ylabel('strain')\n",
    "plt.show()"
   ]
  },
  {
   "cell_type": "markdown",
   "metadata": {},
   "source": [
    "Now let's see if it's similar with our data. We zoom in the plot 'Advanced LIGO strain data near GW150914 filtered'."
   ]
  },
  {
   "cell_type": "code",
   "execution_count": 35,
   "metadata": {},
   "outputs": [
    {
     "name": "stdout",
     "output_type": "stream",
     "text": [
      "[[Fit Statistics]]\n",
      "    # fitting method   = leastsq\n",
      "    # function evals   = 81\n",
      "    # data points      = 1228\n",
      "    # variables        = 4\n",
      "    chi-square         = 0.72586206\n",
      "    reduced chi-square = 5.9302e-04\n",
      "    Akaike info crit   = -9120.38392\n",
      "    Bayesian info crit = -9099.93135\n",
      "[[Variables]]\n",
      "    M:    17.3561729 +/- 0.20106138 (1.16%) (init = 20)\n",
      "    t0:   0.18039070 +/- 5.8553e-04 (0.32%) (init = 0.18)\n",
      "    n:   -0.04145174 +/- 0.00201537 (4.86%) (init = 1)\n",
      "    phi: -2.09189633 +/- 0.37798446 (18.07%) (init = 0)\n",
      "[[Correlations]] (unreported correlations are < 0.100)\n",
      "    C(t0, phi) = -0.981\n",
      "    C(M, phi)  =  0.893\n",
      "    C(M, t0)   = -0.825\n",
      "    C(M, n)    =  0.253\n",
      "    C(n, phi)  =  0.209\n",
      "    C(t0, n)   = -0.188\n"
     ]
    }
   ],
   "source": [
    "sample_times = white_data_bp.times.value\n",
    "sample_data = white_data_bp.value\n",
    "indxt = np.where((sample_times >= (tevent-0.17)) & (sample_times < (tevent+0.13)))\n",
    "x = sample_times[indxt]\n",
    "x = x-x[0]\n",
    "white_data_bp_zoom = sample_data[indxt]\n",
    "\n",
    "plt.figure(figsize=(12, 4))\n",
    "plt.subplots_adjust(left=0.1, right=0.9, top=0.85, bottom=0.2)\n",
    "plt.plot(x, white_data_bp_zoom)\n",
    "plt.xlabel('Time (s)')\n",
    "plt.ylabel('strain (whitened + band-pass)')\n",
    "\n",
    "import lmfit\n",
    "from lmfit import Model, minimize, fit_report, Parameters\n",
    "\n",
    "model = lmfit.Model(osc)\n",
    "p = model.make_params()\n",
    "p['M'].set(20)     # Mass guess\n",
    "p['t0'].set(0.18)  # By construction we put the merger in the center\n",
    "p['n'].set(1)      # normalization guess\n",
    "p['phi'].set(0)    # Phase guess\n",
    "unc = np.full(len(white_data_bp_zoom),20)\n",
    "out = minimize(osc_dif, params=p, args=(x, white_data_bp_zoom, unc))\n",
    "print(fit_report(out))\n",
    "plt.plot(x, model.eval(params=out.params,x=x),'r',label='best fit')\n",
    "plt.show()"
   ]
  },
  {
   "cell_type": "markdown",
   "metadata": {},
   "source": [
    "We don't see the oscillation shape because the data is not properly filtered. If you apply a good bandpassing, we will obtain the plot below. <span style=\"color:blue\">Then using the wave form function to fit this distribution, you will get an estimation of the black hole mass.</span>"
   ]
  },
  {
   "cell_type": "markdown",
   "metadata": {},
   "source": [
    "<img src=\"plots/GW150914_strain_whiten_filter_fit.png\" width=420 align=\"left\"/>"
   ]
  },
  {
   "cell_type": "markdown",
   "metadata": {},
   "source": [
    "To get the actual form you need to do complicated numerical simulations. <span style=\"color:blue\">As a next step for this project, you can load the template databse and try to tune this function to get the parameters (see template notebook). There are also a number of parameters you can tweak here as well. </span>\n",
    "## Search signal in long time range\n",
    "When we zoom in the data above, we look at the small range where the signal is. However in reality we don't know where the signal is in advance, so <span style=\"color:blue\">you need to develop your machinery to search for GW events across a long time range</span>. You can fit one short range by one and see the significance. There is one example below"
   ]
  },
  {
   "cell_type": "code",
   "execution_count": 41,
   "metadata": {},
   "outputs": [],
   "source": [
    "#----------------------------------------------------------------\n",
    "# Significance vs. time\n",
    "#----------------------------------------------------------------\n",
    "\n",
    "def fitrange(data,xx,tcenter,trange):\n",
    "    findxt = np.where((xx >= tcenter-trange*0.5) & (xx < tcenter+trange*0.5))\n",
    "    fwhite_data = data[findxt]\n",
    "    x = xx[findxt]\n",
    "    x = x-x[0]\n",
    "    model = lmfit.Model(osc)\n",
    "    p = model.make_params()\n",
    "    p['M'].set(30)\n",
    "    p['t0'].set(trange*0.5)\n",
    "    p['n'].set(1)\n",
    "    p['phi'].set(0)\n",
    "    unc=np.full(len(fwhite_data),20)\n",
    "    out = minimize(osc_dif, params=p, args=(x, fwhite_data, unc))\n",
    "    return abs(out.params[\"n\"].value/out.params[\"n\"].stderr),out.redchi\n",
    "\n",
    "times = np.arange(-14, 14, 0.05)\n",
    "times += tevent\n",
    "sigs=[]\n",
    "chi2=[]\n",
    "for time in times:\n",
    "    pSig,pChi2 = fitrange(white_data_bp.value, sample_times, time, 0.4)\n",
    "    sigs.append(pSig)\n",
    "    chi2.append(pChi2)"
   ]
  },
  {
   "cell_type": "code",
   "execution_count": 43,
   "metadata": {},
   "outputs": [],
   "source": [
    "plt.figure(figsize=(12, 4))\n",
    "plt.subplots_adjust(left=0.1, right=0.9, top=0.85, bottom=0.2)\n",
    "plt.plot(times, sigs)\n",
    "plt.xlabel('Time (s)')\n",
    "plt.ylabel('N/$\\sigma_{N}$')\n",
    "plt.show()"
   ]
  },
  {
   "cell_type": "code",
   "execution_count": 44,
   "metadata": {},
   "outputs": [],
   "source": [
    "plt.figure(figsize=(12, 4))\n",
    "plt.subplots_adjust(left=0.1, right=0.9, top=0.85, bottom=0.2)\n",
    "plt.plot(times, chi2)\n",
    "plt.xlabel('Time (s)')\n",
    "plt.ylabel('$\\chi^{2}$')\n",
    "plt.show()"
   ]
  },
  {
   "cell_type": "markdown",
   "metadata": {},
   "source": [
    "In this figure we can easily find the signal.\n",
    "# More things to explore\n",
    "<span style=\"color:blue\">Additionally, you should pull the Livingston and Virgo data and try to see if you can align the different waveforms. Do you see a good coincidence. How do you quantify. Given the alignment what direction are the GWs coming from? Also, you can pull in the official wave forms and try to tune your model. Additionally, it would be nice to know how far the GW occured? How would you compute the distance? What about the other GW events? What parameters do you see? In particular, what does then neutron star merger look like?</span>"
   ]
  },
  {
   "cell_type": "code",
   "execution_count": null,
   "metadata": {},
   "outputs": [],
   "source": []
  }
 ],
 "metadata": {
  "kernelspec": {
   "display_name": "Python 3",
   "language": "python",
   "name": "python3"
  },
  "language_info": {
   "codemirror_mode": {
    "name": "ipython",
    "version": 3
   },
   "file_extension": ".py",
   "mimetype": "text/x-python",
   "name": "python",
   "nbconvert_exporter": "python",
   "pygments_lexer": "ipython3",
   "version": "3.7.7"
  }
 },
 "nbformat": 4,
 "nbformat_minor": 4
}
